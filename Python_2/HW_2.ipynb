{
  "nbformat": 4,
  "nbformat_minor": 0,
  "metadata": {
    "colab": {
      "provenance": []
    },
    "kernelspec": {
      "name": "python3",
      "display_name": "Python 3"
    },
    "language_info": {
      "name": "python"
    }
  },
  "cells": [
    {
      "cell_type": "code",
      "execution_count": 1,
      "metadata": {
        "colab": {
          "base_uri": "https://localhost:8080/"
        },
        "id": "aKEaXqKOK1VE",
        "outputId": "4031ed82-aa85-4df7-e109-7512d7844c44"
      },
      "outputs": [
        {
          "output_type": "stream",
          "name": "stdout",
          "text": [
            "   국가  GDP성장률  인구수\n",
            "0  미국     2.0  333\n",
            "1  일본     1.5  125\n",
            "2  영국     1.8   68\n",
            "\n",
            "Pearson Correlation Analysis\n",
            "          GDP성장률       인구수\n",
            "GDP성장률  1.000000  0.754125\n",
            "인구수     0.754125  1.000000\n",
            "\n",
            "Spearman Correlation Analysis\n",
            "          GDP성장률       인구수\n",
            "GDP성장률  1.000000  0.192685\n",
            "인구수     0.192685  1.000000\n",
            "\n",
            "Kendall Correlation Analysis\n",
            "          GDP성장률       인구수\n",
            "GDP성장률  1.000000  0.101886\n",
            "인구수     0.101886  1.000000\n"
          ]
        }
      ],
      "source": [
        "#GDP 성장률과 인구 수의 상관관계\n",
        "import pandas as pd\n",
        "\n",
        "data = {'국가': ['미국','일본','영국','프랑스','독일','이탈리아',\n",
        "      '캐나다','대한민국','러시아','중국','인도', '인도네시아',\n",
        "      '아르헨티나','브라질', '멕시코', '호주', '남아프리카공화국',\n",
        "      '사우디아라비아','튀르키예', '유럽연합(EU)'],\n",
        "      'GDP성장률':[2.0, 1.5, 1.8, 2.1, 1.2, 1.6, 2.3, 2.5, 1.0, 5.0, 6.5,\n",
        "      5.0, 2.0, 2.2, 2.8, 2.0, 1.5, 3.5, 3.0, 1.8],\n",
        "      '인구수' : [333, 125, 68, 67, 83, 60, 38, 51, 145, 1412, 1366, 276, 45,\n",
        "      213, 126, 26, 60, 35, 84, 447]}\n",
        "\n",
        "#데이터프레임 만들기\n",
        "df = pd.DataFrame(data)\n",
        "print(df.head(3)) #위에서부터 3줄만 출력\n",
        "\n",
        "#Pearson 상관계수\n",
        "pearsonCoef = df[['GDP성장률', '인구수']].corr(method = 'pearson')\n",
        "print(\"\\nPearson Correlation Analysis\")\n",
        "print(pearsonCoef)\n",
        "\n",
        "#Spearman 상관계수\n",
        "spearmanCoef = df[['GDP성장률', '인구수']].corr(method = 'spearman')\n",
        "print(\"\\nSpearman Correlation Analysis\")\n",
        "print(spearmanCoef)\n",
        "\n",
        "#Kendall 상관계수\n",
        "kendallCoef = df[['GDP성장률', '인구수']].corr(method = 'kendall')\n",
        "print(\"\\nKendall Correlation Analysis\")\n",
        "print(kendallCoef)\n",
        "\n",
        "#결과 해석\n",
        "#Pearson Correlation = 0.754125: GDP 성장률과 인구수는 양의 상관관계가 있다.\n",
        "#Spearman Correlation = 0.192685: GDP 성장률과 인구수는 상관관계가 약하다.\n",
        "#Kendall Correlation = 0.101886: GDP 성장률과 인구수는 상관관계가 약하다.\n",
        "#==> Pearson을 제외하고 Spearman과 Kendall 상관관계에서는 GDP 성장률과 인구수는 연관이 없다는 결론"
      ]
    }
  ]
}