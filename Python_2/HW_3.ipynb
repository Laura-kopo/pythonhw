{
  "nbformat": 4,
  "nbformat_minor": 0,
  "metadata": {
    "colab": {
      "provenance": []
    },
    "kernelspec": {
      "name": "python3",
      "display_name": "Python 3"
    },
    "language_info": {
      "name": "python"
    }
  },
  "cells": [
    {
      "cell_type": "code",
      "execution_count": 1,
      "metadata": {
        "id": "mwWMJ-xxK9sF",
        "outputId": "c5af7869-e0c3-4170-c076-7b8227ec0fe1",
        "colab": {
          "base_uri": "https://localhost:8080/"
        }
      },
      "outputs": [
        {
          "output_type": "stream",
          "name": "stdout",
          "text": [
            "                            OLS Regression Results                            \n",
            "==============================================================================\n",
            "Dep. Variable:                  price   R-squared:                       0.683\n",
            "Model:                            OLS   Adj. R-squared:                  0.498\n",
            "Method:                 Least Squares   F-statistic:                     3.690\n",
            "Date:                Fri, 21 Mar 2025   Prob (F-statistic):             0.0231\n",
            "Time:                        00:49:39   Log-Likelihood:                -217.20\n",
            "No. Observations:                  20   AIC:                             450.4\n",
            "Df Residuals:                      12   BIC:                             458.4\n",
            "Df Model:                           7                                         \n",
            "Covariance Type:            nonrobust                                         \n",
            "====================================================================================\n",
            "                       coef    std err          t      P>|t|      [0.025      0.975]\n",
            "------------------------------------------------------------------------------------\n",
            "Intercept         1.306e+05   2.57e+05      0.508      0.620   -4.29e+05     6.9e+05\n",
            "size               201.5701    147.979      1.362      0.198    -120.848     523.988\n",
            "age               1.087e+04   8967.868      1.212      0.249   -8668.240    3.04e+04\n",
            "kindergarten      2616.6638   2021.991      1.294      0.220   -1788.876    7022.204\n",
            "elementarySchool -7357.5403   2.04e+04     -0.360      0.725   -5.19e+04    3.72e+04\n",
            "busStop           3712.3288   5198.081      0.714      0.489   -7613.316     1.5e+04\n",
            "hospital          7244.2433   8928.644      0.811      0.433   -1.22e+04    2.67e+04\n",
            "mart              -1.94e+04   6966.415     -2.785      0.017   -3.46e+04   -4222.039\n",
            "==============================================================================\n",
            "Omnibus:                       11.694   Durbin-Watson:                   1.884\n",
            "Prob(Omnibus):                  0.003   Jarque-Bera (JB):               11.614\n",
            "Skew:                          -1.043   Prob(JB):                      0.00301\n",
            "Kurtosis:                       6.095   Cond. No.                     1.02e+04\n",
            "==============================================================================\n",
            "\n",
            "Notes:\n",
            "[1] Standard Errors assume that the covariance matrix of the errors is correctly specified.\n",
            "[2] The condition number is large, 1.02e+04. This might indicate that there are\n",
            "strong multicollinearity or other numerical problems.\n"
          ]
        }
      ],
      "source": [
        "#아파트 매매가격의 요인 분석\n",
        "import pandas as pd\n",
        "import matplotlib.pylab as plt\n",
        "from statsmodels.formula.api import ols\n",
        "from sklearn.linear_model import LinearRegression\n",
        "\n",
        "price = [174000, 156500, 168000, 145000, 200000, 201000, 185000, 170000, 143000, 163500,\n",
        "         158000, 168000, 139200, 184320, 165800, 161850, 100000, 139500, 160500, 150000]\n",
        "size = [152, 118, 118, 85, 160, 175, 176, 170, 110, 120,\n",
        "        125, 160, 109, 111, 161, 150, 147, 98, 115, 160]\n",
        "age = [19, 19, 19, 19, 18, 18, 18, 17, 17, 16,\n",
        "      15, 15, 15, 15, 14, 14, 11, 11, 11, 11]\n",
        "kindergarten = [22, 22, 22, 22, 22, 21, 21, 20, 20, 20,\n",
        "                19, 19, 10, 10, 9, 8, 4, 4, 4, 4]\n",
        "elementarySchool = [10, 10, 10, 10, 10, 11, 11, 11, 11, 11,\n",
        "                    11, 12, 12, 12, 12, 12, 12, 12, 12, 12]\n",
        "busStop = [13, 13, 13, 13, 15, 15, 15, 16, 16, 17,\n",
        "           18, 23, 23, 24, 24, 24, 29, 29, 29, 29]\n",
        "hospital = [19, 19, 19, 19, 18, 18, 16, 16, 16, 16,\n",
        "            15, 15, 15, 15, 15, 14, 14, 14, 14, 14]\n",
        "mart = [19, 19, 19, 19, 17, 17, 17, 17, 17, 16,\n",
        "        16, 16, 16, 14, 14, 14, 14, 14, 14, 14]\n",
        "\n",
        "#Data 프레임 생성\n",
        "data = {'price': price, 'size': size, 'age': age,' kindergarten': kindergarten,\n",
        "        'elementarySchool': elementarySchool, 'busStop': busStop, 'hospital': hospital, 'mart': mart}\n",
        "df = pd.DataFrame(data)\n",
        "\n",
        "#종속변수는 price, 독립변수는 size, age, kindergarten, elementarySchool, busStop, hospital, mart로 단순 선형 회귀분석\n",
        "fit = ols('price ~ size + age + kindergarten + elementarySchool + busStop + hospital + mart', data = df).fit()\n",
        "print(fit.summary())\n",
        "\n",
        "#결과 해석\n",
        "#회귀식: price = 1.306e+05 + 201.5701 * size + 1.087e+04 * age + 2616.6638 * kindergarten + -7357.5403 * elementarySchool + 3712.3288 * busStop + 72442433 * hospital - 1.94e+04 * mart\n",
        "#Adj.R-squared = 0.498으로 회귀식은 0.4 보다 크기 때문에 설명력이 있다고 볼 수 있다.\n",
        "#각 변수들의 p-vaule 중 0.05보다 작은 것은 mart(= 0.017)만 유의미한 변수라고 볼 수 있다."
      ]
    }
  ]
}